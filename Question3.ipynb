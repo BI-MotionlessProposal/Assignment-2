{
 "cells": [
  {
   "cell_type": "code",
   "execution_count": 19,
   "metadata": {},
   "outputs": [
    {
     "name": "stdout",
     "output_type": "stream",
     "text": [
      "done\n"
     ]
    }
   ],
   "source": [
    "import os\n",
    "import sys\n",
    "import csv\n",
    "import platform\n",
    "\n",
    "## This files prints the (CSV)file name and number of sales (lines - 1) in a given folder\n",
    "# The output is a CSV file with 'zipcode_file','number_of_sales'\n",
    "# The last line of the CSV output is a total of  sales#\n",
    "\n",
    "\n",
    "def get_sales_per_zipcode(path = \"data\"):\n",
    "    dirs = os.listdir(path)\n",
    "    total = 0\n",
    "    #file_url = 'http://138.197.184.35/boliga' \n",
    "    #dirs = os.path.basename(dirs) \n",
    "    result = [['zipcode_file','number_of_sales']]\n",
    "    for csv_file in dirs:\n",
    "        rl = []\n",
    "\n",
    "        #print (csv_file)\n",
    "\n",
    "        csv_path = os.path.join('./'+path, csv_file)\n",
    "        num_lines = sum(1 for line in open(csv_path))\n",
    "        rl.append(csv_file)\n",
    "        rl.append(num_lines-1)\n",
    "        total += num_lines-1\n",
    "        \n",
    "        result.append(rl)\n",
    "    result.append(['total sales',total])    \n",
    "    return result\n",
    "\n",
    "\n",
    "def generate_csv(rows, csv_output_path):\n",
    "\n",
    "    if platform.system() == 'Windows':\n",
    "        newline=''\n",
    "    else:\n",
    "        newline=None\n",
    "    with open(csv_output_path, 'w', newline=newline, encoding='utf-8') as f:\n",
    "        output_writer = csv.writer(f)\n",
    "        for row in rows:\n",
    "            output_writer.writerow(row)\n",
    "\n",
    "def run():\n",
    "    #Put the name of the output file here\n",
    "    output_file_name = os.path.basename('result_3_a')\n",
    "    output_path = os.path.join('./', output_file_name)\n",
    "    #Put the name of the output file here\n",
    "    rows = get_sales_per_zipcode('data')\n",
    "    generate_csv(rows, output_path)\n",
    "    print('done')\n",
    "\n",
    "\n",
    "\n",
    "if __name__ == '__main__':\n",
    "    run()\n",
    "\n"
   ]
  }
 ],
 "metadata": {
  "kernelspec": {
   "display_name": "Python 3",
   "language": "python",
   "name": "python3"
  },
  "language_info": {
   "codemirror_mode": {
    "name": "ipython",
    "version": 3
   },
   "file_extension": ".py",
   "mimetype": "text/x-python",
   "name": "python",
   "nbconvert_exporter": "python",
   "pygments_lexer": "ipython3",
   "version": "3.6.1"
  }
 },
 "nbformat": 4,
 "nbformat_minor": 2
}
